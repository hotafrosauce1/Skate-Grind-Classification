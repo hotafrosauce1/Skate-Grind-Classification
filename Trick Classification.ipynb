{
 "cells": [
  {
   "cell_type": "code",
   "execution_count": 1,
   "metadata": {},
   "outputs": [
    {
     "name": "stderr",
     "output_type": "stream",
     "text": [
      "/anaconda3/lib/python3.6/site-packages/h5py/__init__.py:36: FutureWarning: Conversion of the second argument of issubdtype from `float` to `np.floating` is deprecated. In future, it will be treated as `np.float64 == np.dtype(float).type`.\n",
      "  from ._conv import register_converters as _register_converters\n",
      "Using TensorFlow backend.\n"
     ]
    }
   ],
   "source": [
    "import matplotlib.pyplot as plt\n",
    "import keras\n",
    "import numpy as np\n",
    "import PIL\n",
    "from matplotlib import image\n",
    "from os import listdir\n",
    "import os\n",
    "\n",
    "from keras.models import Sequential\n",
    "from keras import optimizers\n",
    "from keras.layers import Conv2D, MaxPooling2D\n",
    "from keras.layers import Activation, Dropout, Flatten, Dense\n",
    "from keras.preprocessing.image import ImageDataGenerator, array_to_img, img_to_array, load_img\n",
    "\n",
    "from sklearn.preprocessing import LabelEncoder\n",
    "from sklearn.model_selection import train_test_split\n",
    "from sklearn.preprocessing import scale"
   ]
  },
  {
   "cell_type": "code",
   "execution_count": 2,
   "metadata": {},
   "outputs": [],
   "source": [
    "# loading all of the images, resizing them,\n",
    "# and storing them in a dictionary according to\n",
    "# their respective classifications\n",
    "\n",
    "loaded_images = {}\n",
    "\n",
    "trick_classes = [\n",
    "    '50-50 Grinds',\n",
    "    '5-0 Grinds',\n",
    "    'Feeble Grinds',\n",
    "    'Smith Grinds',\n",
    "    'C-OC-N Grinds',\n",
    "    'Lipslides and Boardslides',\n",
    "    'Noseslides and Tailslides'\n",
    "]\n",
    "\n",
    "for trick in trick_classes:\n",
    "    img_num = 1\n",
    "    image_directory = 'Skate_Images/{}'.format(trick)\n",
    "    \n",
    "    for filename in listdir(image_directory):\n",
    "        if '.DS_Store' in filename:\n",
    "            continue\n",
    "        if trick not in loaded_images.keys():\n",
    "            loaded_images[trick] = []\n",
    "        else:\n",
    "            img_loc = 'Skate Images/{}/{}'.format(trick, filename)\n",
    "            img_resized_loc = '{}/original-resized-{}.jpg'.format(image_directory, img_num)\n",
    "            \n",
    "            img = PIL.Image.open(img_loc)\n",
    "            img_resized = img.resize((227,227))\n",
    "            \n",
    "            img_resized.save(img_resized_loc)            \n",
    "\n",
    "            img_resized_data = image.imread(img_resized_loc)\n",
    "\n",
    "            if img_resized_data.shape == (227,227):\n",
    "                continue\n",
    "            \n",
    "            loaded_images[trick].append(img_resized_data)\n",
    "            img_num += 1"
   ]
  },
  {
   "cell_type": "code",
   "execution_count": 3,
   "metadata": {},
   "outputs": [
    {
     "name": "stdout",
     "output_type": "stream",
     "text": [
      "(227, 227, 3)\n",
      "(227, 227, 3)\n",
      "(227, 227, 3)\n",
      "(227, 227, 3)\n",
      "(227, 227, 3)\n",
      "(227, 227, 3)\n",
      "(227, 227, 3)\n"
     ]
    }
   ],
   "source": [
    "# Verifying the training images are resized to 227 x 227 pixels\n",
    "for trick in loaded_images.keys():\n",
    "    print(loaded_images[trick][0].shape)"
   ]
  },
  {
   "cell_type": "code",
   "execution_count": 4,
   "metadata": {},
   "outputs": [
    {
     "name": "stdout",
     "output_type": "stream",
     "text": [
      "1209\n"
     ]
    }
   ],
   "source": [
    "# Total number of training images\n",
    "print(sum([len(trick_list) for trick_list in loaded_images.values()]))"
   ]
  },
  {
   "cell_type": "code",
   "execution_count": 5,
   "metadata": {},
   "outputs": [
    {
     "name": "stdout",
     "output_type": "stream",
     "text": [
      "Number of images for each trick category: \n",
      "\n",
      "---> 50-50 Grinds (103 images)\n",
      "---> 5-0 Grinds (89 images)\n",
      "---> Feeble Grinds (93 images)\n",
      "---> Smith Grinds (149 images)\n",
      "---> C-OC-N Grinds (287 images)\n",
      "---> Lipslides and Boardslides (254 images)\n",
      "---> Noseslides and Tailslides (234 images)\n"
     ]
    }
   ],
   "source": [
    "# Number of images per trick category\n",
    "print(\"Number of images for each trick category: \\n\")\n",
    "for trick in loaded_images.keys():\n",
    "    num_images = len(loaded_images[trick])\n",
    "    print('---> {} ({} images)'.format(trick, num_images))"
   ]
  },
  {
   "cell_type": "code",
   "execution_count": 6,
   "metadata": {},
   "outputs": [],
   "source": [
    "#Constructing ConvNet model (Using AlexNet network architecture)\n",
    "model = Sequential()\n",
    "weight_initializer = keras.initializers.TruncatedNormal(mean=0.0, stddev=0.01, seed=None)\n",
    "regularizer = keras.regularizers.l2(l=0.0001)\n",
    "\n",
    "#First Layer\n",
    "model.add(Conv2D(filters = 1, \n",
    "                 kernel_regularizer=regularizer,\n",
    "                 strides=4,\n",
    "                 kernel_initializer=weight_initializer,\n",
    "                 kernel_size = (11,11),\n",
    "                 input_shape = (227,227,3)))\n",
    "\n",
    "model.add(Activation('relu'))\n",
    "\n",
    "model.add(MaxPooling2D(pool_size = (3,3),\n",
    "                       strides = 2))\n",
    "\n",
    "#Second Layer\n",
    "model.add(Conv2D(filters = 1,\n",
    "                 kernel_regularizer=regularizer,\n",
    "                 padding='same',\n",
    "                 kernel_initializer = weight_initializer,\n",
    "                 kernel_size = (5,5)))\n",
    "\n",
    "model.add(Activation('relu'))\n",
    "\n",
    "model.add(MaxPooling2D(pool_size = (3,3),\n",
    "                       strides = 2))\n",
    "\n",
    "#Third Layer\n",
    "model.add(Conv2D(filters = 1,\n",
    "                 kernel_regularizer=regularizer,\n",
    "                 padding = 'same',\n",
    "                 kernel_initializer = weight_initializer,\n",
    "                 kernel_size = (3,3)))\n",
    "\n",
    "model.add(Activation('relu'))\n",
    "\n",
    "#Fourth Layer\n",
    "model.add(Conv2D(filters=1,\n",
    "                 kernel_regularizer=regularizer,\n",
    "                 padding='same',\n",
    "                 kernel_initializer = weight_initializer,\n",
    "                 kernel_size=(3,3)))\n",
    "\n",
    "model.add(Activation('relu'))\n",
    "\n",
    "#Fifth Layer\n",
    "model.add(Conv2D(filters=1, \n",
    "                 kernel_regularizer=regularizer,\n",
    "                 padding='same',\n",
    "                 kernel_initializer = weight_initializer,\n",
    "                 kernel_size=(3,3)))\n",
    "\n",
    "model.add(Activation('relu'))\n",
    "\n",
    "model.add(MaxPooling2D(pool_size=(3,3),\n",
    "                       strides=2))\n",
    "\n",
    "#Flatten data to feed into Fully Connected Layer\n",
    "model.add(Flatten())\n",
    "\n",
    "#Sixth Layer\n",
    "model.add(Dense(100, \n",
    "                kernel_regularizer=regularizer,\n",
    "                kernel_initializer=weight_initializer))\n",
    "\n",
    "model.add(Activation('relu'))\n",
    "model.add(Dropout(0.5))\n",
    "\n",
    "#Seventh Layer\n",
    "model.add(Dense(100, \n",
    "                kernel_regularizer=regularizer,\n",
    "                kernel_initializer=weight_initializer))\n",
    "\n",
    "model.add(Activation('relu'))\n",
    "model.add(Dropout(0.5))\n",
    "\n",
    "#Eighth Layer (Output Layer)\n",
    "model.add(Dense(7))\n",
    "model.add(Activation('softmax'))\n",
    "\n",
    "#\n",
    "sgd = keras.optimizers.sgd(lr=0.01)\n",
    "\n",
    "model.compile(loss='binary_crossentropy',\n",
    "              optimizer=sgd, \n",
    "              metrics=['accuracy'])"
   ]
  },
  {
   "cell_type": "code",
   "execution_count": 7,
   "metadata": {},
   "outputs": [],
   "source": [
    "# Aggregating the images into one array and \n",
    "# one-hot encoding the image labels to be fed into \n",
    "# the CNN\n",
    "\n",
    "input_images = []\n",
    "output = []\n",
    "\n",
    "trick_map = {\n",
    "    '5-0 Grinds' : '5-0 Grind',\n",
    "    '50-50 Grinds' :  '50-50 Grind',\n",
    "    'Feeble Grinds' : 'Feeble Grind',\n",
    "    'Lipslides and Boardslides' : 'Lipslide or Boardslide',\n",
    "    'Noseslides and Tailslides' : 'Noseslide or Tailslide',\n",
    "    'Smith Grinds' : 'Smith Grind',\n",
    "    'C-OC-N Grinds': 'Crooked Grind, Overcrooked Grind, or Nosegrind'\n",
    "}\n",
    "\n",
    "for trick in trick_classes:\n",
    "    trick_images = loaded_images[trick]\n",
    "    num_images = len(trick_images)\n",
    "    image_labels = [trick_map[trick] for _ in range(num_images)]\n",
    "    for image, label in zip(trick_images, image_labels):\n",
    "        input_images.append(image)\n",
    "        output.append(label)\n",
    "        \n",
    "output = np.array(output)\n",
    "\n",
    "label_encoder = LabelEncoder()\n",
    "vec = label_encoder.fit_transform(output)\n",
    "one_hot_labels = keras.utils.to_categorical(vec, num_classes = len(trick_map.keys()))"
   ]
  },
  {
   "cell_type": "code",
   "execution_count": 8,
   "metadata": {},
   "outputs": [],
   "source": [
    "input_images = np.array(input_images)"
   ]
  },
  {
   "cell_type": "code",
   "execution_count": 10,
   "metadata": {},
   "outputs": [],
   "source": [
    "# defining an ImageDataGenerator to perform data augmentation\n",
    "datagen = ImageDataGenerator(height_shift_range = 0.15,\n",
    "                             horizontal_flip=True,\n",
    "                             width_shift_range = 0.15,\n",
    "                             rotation_range = 10,\n",
    "                             rescale= 1.0/255,\n",
    "                             zoom_range=0.2,\n",
    "                             shear_range=0.1)\n",
    "datagen.fit(input_images)\n",
    "\n",
    "# Create images directory to store newly generated images\n",
    "os.makedirs('images')\n",
    "\n",
    "# Generate around 10,000 augmented images from the original dataset\n",
    "i = 1\n",
    "aug_images = []\n",
    "aug_labels = []\n",
    "for X_batch, y_batch in datagen.flow(input_images, one_hot_labels, batch_size=100, save_to_dir='images', save_prefix='aug', save_format='jpg'):\n",
    "    if i == 101:\n",
    "        break\n",
    "    for X_aug_example, y_aug_example in zip(X_batch, y_batch):\n",
    "        aug_images.append(X_aug_example)\n",
    "        aug_labels.append(y_aug_example)\n",
    "    i += 1\n",
    "\n",
    "aug_images = np.array(aug_images)\n",
    "aug_labels = np.array(aug_labels)\n",
    "\n",
    "# Add the augmented images to the original dataset\n",
    "input_images = np.vstack((input_images, aug_images))\n",
    "one_hot_labels = np.vstack((one_hot_labels, aug_labels))"
   ]
  },
  {
   "cell_type": "code",
   "execution_count": 11,
   "metadata": {},
   "outputs": [],
   "source": [
    "# Train-Test Split\n",
    "X_train, X_test, y_train, y_test = train_test_split(input_images, \n",
    "                                                     one_hot_labels)   "
   ]
  },
  {
   "cell_type": "code",
   "execution_count": 12,
   "metadata": {},
   "outputs": [
    {
     "name": "stdout",
     "output_type": "stream",
     "text": [
      "We now have 10572 images in total.\n",
      "There are 7929 training images and 2643 testing images.\n"
     ]
    }
   ],
   "source": [
    "print('We now have {} images in total.'.format(len(X_train) + len(X_test)))\n",
    "print('There are {} training images and {} testing images.'.format(len(X_train), len(X_test)))"
   ]
  },
  {
   "cell_type": "code",
   "execution_count": 13,
   "metadata": {
    "scrolled": true
   },
   "outputs": [
    {
     "name": "stdout",
     "output_type": "stream",
     "text": [
      "[0. 0. 0. 0. 1. 0. 0.]\n"
     ]
    },
    {
     "data": {
      "image/png": "[encoded data removed]",
      "text/plain": [
       "<Figure size 432x288 with 1 Axes>"
      ]
     },
     "metadata": {},
     "output_type": "display_data"
    }
   ],
   "source": [
    "plt.imshow(X_train[66])\n",
    "print(y_train[66])"
   ]
  },
  {
   "cell_type": "code",
   "execution_count": 14,
   "metadata": {},
   "outputs": [
    {
     "name": "stdout",
     "output_type": "stream",
     "text": [
      "Train on 7929 samples, validate on 2643 samples\n",
      "Epoch 1/5\n",
      "7929/7929 [==============================] - 239s 30ms/step - loss: 0.4087 - acc: 0.8571 - val_loss: 0.4074 - val_acc: 0.8571\n",
      "Epoch 2/5\n",
      "7929/7929 [==============================] - 188s 24ms/step - loss: 0.4060 - acc: 0.8571 - val_loss: 0.4048 - val_acc: 0.8571\n",
      "Epoch 3/5\n",
      "7929/7929 [==============================] - 169s 21ms/step - loss: 0.4036 - acc: 0.8571 - val_loss: 0.4027 - val_acc: 0.8571\n",
      "Epoch 4/5\n",
      "7929/7929 [==============================] - 182s 23ms/step - loss: 0.4017 - acc: 0.8571 - val_loss: 0.4009 - val_acc: 0.8571\n",
      "Epoch 5/5\n",
      "7929/7929 [==============================] - 170s 21ms/step - loss: 0.4000 - acc: 0.8571 - val_loss: 0.3995 - val_acc: 0.8571\n"
     ]
    },
    {
     "data": {
      "text/plain": [
       "<keras.callbacks.History at 0x104adf898>"
      ]
     },
     "execution_count": 14,
     "metadata": {},
     "output_type": "execute_result"
    }
   ],
   "source": [
    "# Train the CNN\n",
    "model.fit(X_train,\n",
    "          y_train,\n",
    "          validation_data = (X_test, y_test),\n",
    "          batch_size = 32,\n",
    "          epochs = 5)"
   ]
  },
  {
   "cell_type": "code",
   "execution_count": null,
   "metadata": {},
   "outputs": [],
   "source": [
    "keras.backend.clear_session()"
   ]
  },
  {
   "cell_type": "code",
   "execution_count": null,
   "metadata": {},
   "outputs": [],
   "source": []
  }
 ],
 "metadata": {
  "kernelspec": {
   "display_name": "Python 3",
   "language": "python",
   "name": "python3"
  },
  "language_info": {
   "codemirror_mode": {
    "name": "ipython",
    "version": 3
   },
   "file_extension": ".py",
   "mimetype": "text/x-python",
   "name": "python",
   "nbconvert_exporter": "python",
   "pygments_lexer": "ipython3",
   "version": "3.6.5"
  }
 },
 "nbformat": 4,
 "nbformat_minor": 2
}

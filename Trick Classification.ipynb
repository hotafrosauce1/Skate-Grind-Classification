{
 "cells": [
  {
   "cell_type": "code",
   "execution_count": 3,
   "metadata": {},
   "outputs": [],
   "source": [
    "import matplotlib.pyplot as plt\n",
    "from matplotlib import image\n",
    "import numpy as np\n",
    "from os import listdir\n",
    "import PIL"
   ]
  },
  {
   "cell_type": "code",
   "execution_count": null,
   "metadata": {},
   "outputs": [],
   "source": [
    "# loading all of the images, resizing them, converting them \n",
    "# to grayscale, and storing them in a dictionary according to\n",
    "# their respective classifications\n",
    "\n",
    "loaded_images = {}\n",
    "\n",
    "trick_classes = [\n",
    "    '5-0 Grinds',\n",
    "    '50-50 Grinds',\n",
    "    'Crooks and Overcrooks',\n",
    "    'Feeble Grinds',\n",
    "    'Lipslides and Boardslides',\n",
    "    'Nose Grinds',\n",
    "    'Noseblunts and Bluntslides',\n",
    "    'Noseslides and Tailslides',\n",
    "    'Smith Grinds'\n",
    "]\n",
    "\n",
    "\n",
    "for trick in trick_classes:\n",
    "    image_directory = '/Skate Images/{}'.format(trick)\n",
    "    for filename in listdir(image_directory):\n",
    "        if trick not in loaded_images.keys():\n",
    "            loaded_images[trick] = []\n",
    "        else:\n",
    "            img = '/Skate Images/{}/{}'.format(trick, filename)\n",
    "            loaded_images[trick].append()\n",
    "            \n",
    "        "
   ]
  },
  {
   "cell_type": "code",
   "execution_count": null,
   "metadata": {},
   "outputs": [],
   "source": []
  }
 ],
 "metadata": {
  "kernelspec": {
   "display_name": "Python 3",
   "language": "python",
   "name": "python3"
  },
  "language_info": {
   "codemirror_mode": {
    "name": "ipython",
    "version": 3
   },
   "file_extension": ".py",
   "mimetype": "text/x-python",
   "name": "python",
   "nbconvert_exporter": "python",
   "pygments_lexer": "ipython3",
   "version": "3.6.5"
  }
 },
 "nbformat": 4,
 "nbformat_minor": 2
}
